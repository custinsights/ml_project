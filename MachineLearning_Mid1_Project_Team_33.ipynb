{
  "cells": [
    {
      "cell_type": "code",
      "execution_count": 2,
      "metadata": {
        "id": "tBNYs6e9pZJw"
      },
      "outputs": [],
      "source": [
        "import numpy as np\n",
        "import pandas as pd\n",
        "from sklearn import preprocessing\n",
        "from sklearn.base import BaseEstimator , TransformerMixin\n",
        "from sklearn.pipeline import Pipeline, FeatureUnion\n",
        "from sklearn.impute import SimpleImputer\n",
        "from sklearn.preprocessing import MinMaxScaler\n",
        "from sklearn.preprocessing import StandardScaler\n",
        "from sklearn.model_selection import ShuffleSplit\n",
        "from sklearn.model_selection import cross_val_score\n",
        "from sklearn.model_selection import GridSearchCV\n",
        "from sklearn.ensemble import RandomForestClassifier\n",
        "from sklearn.neural_network import MLPClassifier\n",
        "from sklearn.svm import SVC\n",
        "import seaborn as sns\n",
        "import matplotlib.pyplot as plt\n",
        "from sklearn.base import BaseEstimator , TransformerMixin\n",
        "from sklearn.pipeline import Pipeline, FeatureUnion\n",
        "from sklearn.impute import SimpleImputer\n",
        "from sklearn.preprocessing import MinMaxScaler\n",
        "from sklearn.preprocessing import StandardScaler\n",
        "from sklearn.model_selection import ShuffleSplit\n",
        "from sklearn.model_selection import cross_val_score\n",
        "from sklearn.model_selection import GridSearchCV\n",
        "from sklearn.linear_model import LogisticRegression, RidgeClassifier\n",
        "from sklearn.ensemble import RandomForestRegressor\n",
        "from sklearn.metrics import roc_curve, auc, roc_auc_score\n",
        "from sklearn.metrics import mean_squared_error, r2_score\n",
        "from sklearn.model_selection import GridSearchCV\n",
        "from sklearn.feature_selection import VarianceThreshold\n",
        "from sklearn.model_selection import GridSearchCV\n",
        "from sklearn.model_selection import train_test_split\n",
        "from sklearn.cluster import KMeans"
      ]
    },
    {
      "cell_type": "code",
      "execution_count": 3,
      "metadata": {
        "id": "EB2PLyz0ozXj"
      },
      "outputs": [],
      "source": [
        "data=pd.read_csv('/content/marketing_campaign.csv', delimiter='\\t')"
      ]
    },
    {
      "cell_type": "code",
      "execution_count": 4,
      "metadata": {
        "colab": {
          "base_uri": "https://localhost:8080/"
        },
        "id": "TE1GPJKS5vrA",
        "outputId": "def77ee3-b46c-49a9-8827-03be64810ecc"
      },
      "outputs": [
        {
          "name": "stdout",
          "output_type": "stream",
          "text": [
            "ID                      0\n",
            "Year_Birth              0\n",
            "Education               0\n",
            "Marital_Status          0\n",
            "Income                 24\n",
            "Kidhome                 0\n",
            "Teenhome                0\n",
            "Dt_Customer             0\n",
            "Recency                 0\n",
            "MntWines                0\n",
            "MntFruits               0\n",
            "MntMeatProducts         0\n",
            "MntFishProducts         0\n",
            "MntSweetProducts        0\n",
            "MntGoldProds            0\n",
            "NumDealsPurchases       0\n",
            "NumWebPurchases         0\n",
            "NumCatalogPurchases     0\n",
            "NumStorePurchases       0\n",
            "NumWebVisitsMonth       0\n",
            "AcceptedCmp3            0\n",
            "AcceptedCmp4            0\n",
            "AcceptedCmp5            0\n",
            "AcceptedCmp1            0\n",
            "AcceptedCmp2            0\n",
            "Complain                0\n",
            "Z_CostContact           0\n",
            "Z_Revenue               0\n",
            "Response                0\n",
            "dtype: int64\n"
          ]
        }
      ],
      "source": [
        "# Checking for null values\n",
        "missing_values_count = data.isnull().sum()\n",
        "print(missing_values_count)\n",
        "data = data.dropna()"
      ]
    },
    {
      "cell_type": "code",
      "execution_count": 5,
      "metadata": {
        "colab": {
          "base_uri": "https://localhost:8080/"
        },
        "id": "5VeXCvZlpYEg",
        "outputId": "7498151f-7b4f-47e5-d531-5a452c7b9e69"
      },
      "outputs": [
        {
          "name": "stdout",
          "output_type": "stream",
          "text": [
            "     ID  Year_Birth   Education Marital_Status   Income  Kidhome  Teenhome  \\\n",
            "0  5524        1957  Graduation         Single  58138.0        0         0   \n",
            "1  2174        1954  Graduation         Single  46344.0        1         1   \n",
            "2  4141        1965  Graduation       Together  71613.0        0         0   \n",
            "3  6182        1984  Graduation       Together  26646.0        1         0   \n",
            "4  5324        1981         PhD        Married  58293.0        1         0   \n",
            "\n",
            "  Dt_Customer  Recency  MntWines  ...  NumWebVisitsMonth  AcceptedCmp3  \\\n",
            "0  04-09-2012       58       635  ...                  7             0   \n",
            "1  08-03-2014       38        11  ...                  5             0   \n",
            "2  21-08-2013       26       426  ...                  4             0   \n",
            "3  10-02-2014       26        11  ...                  6             0   \n",
            "4  19-01-2014       94       173  ...                  5             0   \n",
            "\n",
            "   AcceptedCmp4  AcceptedCmp5  AcceptedCmp1  AcceptedCmp2  Complain  \\\n",
            "0             0             0             0             0         0   \n",
            "1             0             0             0             0         0   \n",
            "2             0             0             0             0         0   \n",
            "3             0             0             0             0         0   \n",
            "4             0             0             0             0         0   \n",
            "\n",
            "   Z_CostContact  Z_Revenue  Response  \n",
            "0              3         11         1  \n",
            "1              3         11         0  \n",
            "2              3         11         0  \n",
            "3              3         11         0  \n",
            "4              3         11         0  \n",
            "\n",
            "[5 rows x 29 columns]\n"
          ]
        }
      ],
      "source": [
        "print(data.head())"
      ]
    },
    {
      "cell_type": "code",
      "execution_count": 6,
      "metadata": {
        "colab": {
          "base_uri": "https://localhost:8080/"
        },
        "id": "ChkR3KQ8sNc0",
        "outputId": "c1d120fc-97f0-4a27-915e-bb5b4b1dd4de"
      },
      "outputs": [
        {
          "name": "stdout",
          "output_type": "stream",
          "text": [
            "<class 'pandas.core.frame.DataFrame'>\n",
            "Int64Index: 2216 entries, 0 to 2239\n",
            "Data columns (total 29 columns):\n",
            " #   Column               Non-Null Count  Dtype  \n",
            "---  ------               --------------  -----  \n",
            " 0   ID                   2216 non-null   int64  \n",
            " 1   Year_Birth           2216 non-null   int64  \n",
            " 2   Education            2216 non-null   object \n",
            " 3   Marital_Status       2216 non-null   object \n",
            " 4   Income               2216 non-null   float64\n",
            " 5   Kidhome              2216 non-null   int64  \n",
            " 6   Teenhome             2216 non-null   int64  \n",
            " 7   Dt_Customer          2216 non-null   object \n",
            " 8   Recency              2216 non-null   int64  \n",
            " 9   MntWines             2216 non-null   int64  \n",
            " 10  MntFruits            2216 non-null   int64  \n",
            " 11  MntMeatProducts      2216 non-null   int64  \n",
            " 12  MntFishProducts      2216 non-null   int64  \n",
            " 13  MntSweetProducts     2216 non-null   int64  \n",
            " 14  MntGoldProds         2216 non-null   int64  \n",
            " 15  NumDealsPurchases    2216 non-null   int64  \n",
            " 16  NumWebPurchases      2216 non-null   int64  \n",
            " 17  NumCatalogPurchases  2216 non-null   int64  \n",
            " 18  NumStorePurchases    2216 non-null   int64  \n",
            " 19  NumWebVisitsMonth    2216 non-null   int64  \n",
            " 20  AcceptedCmp3         2216 non-null   int64  \n",
            " 21  AcceptedCmp4         2216 non-null   int64  \n",
            " 22  AcceptedCmp5         2216 non-null   int64  \n",
            " 23  AcceptedCmp1         2216 non-null   int64  \n",
            " 24  AcceptedCmp2         2216 non-null   int64  \n",
            " 25  Complain             2216 non-null   int64  \n",
            " 26  Z_CostContact        2216 non-null   int64  \n",
            " 27  Z_Revenue            2216 non-null   int64  \n",
            " 28  Response             2216 non-null   int64  \n",
            "dtypes: float64(1), int64(25), object(3)\n",
            "memory usage: 519.4+ KB\n",
            "None\n"
          ]
        }
      ],
      "source": [
        "print(data.info())"
      ]
    },
    {
      "cell_type": "code",
      "execution_count": 7,
      "metadata": {
        "colab": {
          "base_uri": "https://localhost:8080/"
        },
        "id": "o57sfRRMtfEr",
        "outputId": "b2555144-694b-47a8-8b0d-cd07c7623202"
      },
      "outputs": [
        {
          "name": "stdout",
          "output_type": "stream",
          "text": [
            "                 ID   Year_Birth         Income      Kidhome     Teenhome  \\\n",
            "count   2216.000000  2216.000000    2216.000000  2216.000000  2216.000000   \n",
            "mean    5588.353339  1968.820397   52247.251354     0.441787     0.505415   \n",
            "std     3249.376275    11.985554   25173.076661     0.536896     0.544181   \n",
            "min        0.000000  1893.000000    1730.000000     0.000000     0.000000   \n",
            "25%     2814.750000  1959.000000   35303.000000     0.000000     0.000000   \n",
            "50%     5458.500000  1970.000000   51381.500000     0.000000     0.000000   \n",
            "75%     8421.750000  1977.000000   68522.000000     1.000000     1.000000   \n",
            "max    11191.000000  1996.000000  666666.000000     2.000000     2.000000   \n",
            "\n",
            "           Recency     MntWines    MntFruits  MntMeatProducts  \\\n",
            "count  2216.000000  2216.000000  2216.000000      2216.000000   \n",
            "mean     49.012635   305.091606    26.356047       166.995939   \n",
            "std      28.948352   337.327920    39.793917       224.283273   \n",
            "min       0.000000     0.000000     0.000000         0.000000   \n",
            "25%      24.000000    24.000000     2.000000        16.000000   \n",
            "50%      49.000000   174.500000     8.000000        68.000000   \n",
            "75%      74.000000   505.000000    33.000000       232.250000   \n",
            "max      99.000000  1493.000000   199.000000      1725.000000   \n",
            "\n",
            "       MntFishProducts  ...  NumWebVisitsMonth  AcceptedCmp3  AcceptedCmp4  \\\n",
            "count      2216.000000  ...        2216.000000   2216.000000   2216.000000   \n",
            "mean         37.637635  ...           5.319043      0.073556      0.074007   \n",
            "std          54.752082  ...           2.425359      0.261106      0.261842   \n",
            "min           0.000000  ...           0.000000      0.000000      0.000000   \n",
            "25%           3.000000  ...           3.000000      0.000000      0.000000   \n",
            "50%          12.000000  ...           6.000000      0.000000      0.000000   \n",
            "75%          50.000000  ...           7.000000      0.000000      0.000000   \n",
            "max         259.000000  ...          20.000000      1.000000      1.000000   \n",
            "\n",
            "       AcceptedCmp5  AcceptedCmp1  AcceptedCmp2     Complain  Z_CostContact  \\\n",
            "count   2216.000000   2216.000000   2216.000000  2216.000000         2216.0   \n",
            "mean       0.073105      0.064079      0.013538     0.009477            3.0   \n",
            "std        0.260367      0.244950      0.115588     0.096907            0.0   \n",
            "min        0.000000      0.000000      0.000000     0.000000            3.0   \n",
            "25%        0.000000      0.000000      0.000000     0.000000            3.0   \n",
            "50%        0.000000      0.000000      0.000000     0.000000            3.0   \n",
            "75%        0.000000      0.000000      0.000000     0.000000            3.0   \n",
            "max        1.000000      1.000000      1.000000     1.000000            3.0   \n",
            "\n",
            "       Z_Revenue     Response  \n",
            "count     2216.0  2216.000000  \n",
            "mean        11.0     0.150271  \n",
            "std          0.0     0.357417  \n",
            "min         11.0     0.000000  \n",
            "25%         11.0     0.000000  \n",
            "50%         11.0     0.000000  \n",
            "75%         11.0     0.000000  \n",
            "max         11.0     1.000000  \n",
            "\n",
            "[8 rows x 26 columns]\n"
          ]
        }
      ],
      "source": [
        "print(data.describe())"
      ]
    },
    {
      "cell_type": "code",
      "execution_count": 8,
      "metadata": {
        "colab": {
          "base_uri": "https://localhost:8080/"
        },
        "id": "y1q83YBGrXx2",
        "outputId": "0d88b069-b954-40d0-d63e-8979eb9a735c"
      },
      "outputs": [
        {
          "name": "stdout",
          "output_type": "stream",
          "text": [
            "ID                     0\n",
            "Year_Birth             0\n",
            "Education              0\n",
            "Marital_Status         0\n",
            "Income                 0\n",
            "Kidhome                0\n",
            "Teenhome               0\n",
            "Dt_Customer            0\n",
            "Recency                0\n",
            "MntWines               0\n",
            "MntFruits              0\n",
            "MntMeatProducts        0\n",
            "MntFishProducts        0\n",
            "MntSweetProducts       0\n",
            "MntGoldProds           0\n",
            "NumDealsPurchases      0\n",
            "NumWebPurchases        0\n",
            "NumCatalogPurchases    0\n",
            "NumStorePurchases      0\n",
            "NumWebVisitsMonth      0\n",
            "AcceptedCmp3           0\n",
            "AcceptedCmp4           0\n",
            "AcceptedCmp5           0\n",
            "AcceptedCmp1           0\n",
            "AcceptedCmp2           0\n",
            "Complain               0\n",
            "Z_CostContact          0\n",
            "Z_Revenue              0\n",
            "Response               0\n",
            "dtype: int64\n"
          ]
        }
      ],
      "source": [
        "missing_values_count = data.isnull().sum()\n",
        "print(missing_values_count)"
      ]
    },
    {
      "cell_type": "markdown",
      "metadata": {
        "id": "v98jIN0lz_K6"
      },
      "source": [
        "# **Data Preproccessing**"
      ]
    },
    {
      "cell_type": "code",
      "execution_count": 9,
      "metadata": {
        "id": "vd_IppDMvXIW"
      },
      "outputs": [],
      "source": [
        "# dropping data ID since its not relevant to the model\n",
        "data_Id = data['ID']\n",
        "\n",
        "data = data.drop('ID', axis=1)\n",
        "# Handling categorical data\n",
        "le1 = preprocessing.LabelEncoder()\n",
        "le1.fit(data['Education'])\n",
        "data['Education'] = le1.transform(data['Education'])\n",
        "\n",
        "\n",
        "le2 = preprocessing.LabelEncoder()\n",
        "le2.fit(data['Marital_Status'])\n",
        "data['Marital_Status'] = le2.transform(data['Marital_Status'])\n",
        "\n",
        "\n",
        "\n",
        "le3 = preprocessing.LabelEncoder()\n",
        "le3.fit(data['Dt_Customer'])\n",
        "data['Dt_Customer'] = le3.transform(data['Dt_Customer'])"
      ]
    },
    {
      "cell_type": "code",
      "execution_count": 10,
      "metadata": {
        "colab": {
          "base_uri": "https://localhost:8080/",
          "height": 424
        },
        "id": "6n3Ne1y_rkfZ",
        "outputId": "d2406e2c-2efb-418b-8652-6f24cb983e04"
      },
      "outputs": [
        {
          "data": {
            "application/vnd.google.colaboratory.intrinsic+json": {
              "type": "dataframe",
              "variable_name": "data"
            },
            "text/html": [
              "\n",
              "  <div id=\"df-b056632f-1537-4ff4-b4bb-879335a93799\" class=\"colab-df-container\">\n",
              "    <div>\n",
              "<style scoped>\n",
              "    .dataframe tbody tr th:only-of-type {\n",
              "        vertical-align: middle;\n",
              "    }\n",
              "\n",
              "    .dataframe tbody tr th {\n",
              "        vertical-align: top;\n",
              "    }\n",
              "\n",
              "    .dataframe thead th {\n",
              "        text-align: right;\n",
              "    }\n",
              "</style>\n",
              "<table border=\"1\" class=\"dataframe\">\n",
              "  <thead>\n",
              "    <tr style=\"text-align: right;\">\n",
              "      <th></th>\n",
              "      <th>Year_Birth</th>\n",
              "      <th>Education</th>\n",
              "      <th>Marital_Status</th>\n",
              "      <th>Income</th>\n",
              "      <th>Kidhome</th>\n",
              "      <th>Teenhome</th>\n",
              "      <th>Dt_Customer</th>\n",
              "      <th>Recency</th>\n",
              "      <th>MntWines</th>\n",
              "      <th>MntFruits</th>\n",
              "      <th>...</th>\n",
              "      <th>NumWebVisitsMonth</th>\n",
              "      <th>AcceptedCmp3</th>\n",
              "      <th>AcceptedCmp4</th>\n",
              "      <th>AcceptedCmp5</th>\n",
              "      <th>AcceptedCmp1</th>\n",
              "      <th>AcceptedCmp2</th>\n",
              "      <th>Complain</th>\n",
              "      <th>Z_CostContact</th>\n",
              "      <th>Z_Revenue</th>\n",
              "      <th>Response</th>\n",
              "    </tr>\n",
              "  </thead>\n",
              "  <tbody>\n",
              "    <tr>\n",
              "      <th>0</th>\n",
              "      <td>1957</td>\n",
              "      <td>2</td>\n",
              "      <td>4</td>\n",
              "      <td>58138.0</td>\n",
              "      <td>0</td>\n",
              "      <td>0</td>\n",
              "      <td>80</td>\n",
              "      <td>58</td>\n",
              "      <td>635</td>\n",
              "      <td>88</td>\n",
              "      <td>...</td>\n",
              "      <td>7</td>\n",
              "      <td>0</td>\n",
              "      <td>0</td>\n",
              "      <td>0</td>\n",
              "      <td>0</td>\n",
              "      <td>0</td>\n",
              "      <td>0</td>\n",
              "      <td>3</td>\n",
              "      <td>11</td>\n",
              "      <td>1</td>\n",
              "    </tr>\n",
              "    <tr>\n",
              "      <th>1</th>\n",
              "      <td>1954</td>\n",
              "      <td>2</td>\n",
              "      <td>4</td>\n",
              "      <td>46344.0</td>\n",
              "      <td>1</td>\n",
              "      <td>1</td>\n",
              "      <td>157</td>\n",
              "      <td>38</td>\n",
              "      <td>11</td>\n",
              "      <td>1</td>\n",
              "      <td>...</td>\n",
              "      <td>5</td>\n",
              "      <td>0</td>\n",
              "      <td>0</td>\n",
              "      <td>0</td>\n",
              "      <td>0</td>\n",
              "      <td>0</td>\n",
              "      <td>0</td>\n",
              "      <td>3</td>\n",
              "      <td>11</td>\n",
              "      <td>0</td>\n",
              "    </tr>\n",
              "    <tr>\n",
              "      <th>2</th>\n",
              "      <td>1965</td>\n",
              "      <td>2</td>\n",
              "      <td>5</td>\n",
              "      <td>71613.0</td>\n",
              "      <td>0</td>\n",
              "      <td>0</td>\n",
              "      <td>444</td>\n",
              "      <td>26</td>\n",
              "      <td>426</td>\n",
              "      <td>49</td>\n",
              "      <td>...</td>\n",
              "      <td>4</td>\n",
              "      <td>0</td>\n",
              "      <td>0</td>\n",
              "      <td>0</td>\n",
              "      <td>0</td>\n",
              "      <td>0</td>\n",
              "      <td>0</td>\n",
              "      <td>3</td>\n",
              "      <td>11</td>\n",
              "      <td>0</td>\n",
              "    </tr>\n",
              "    <tr>\n",
              "      <th>3</th>\n",
              "      <td>1984</td>\n",
              "      <td>2</td>\n",
              "      <td>5</td>\n",
              "      <td>26646.0</td>\n",
              "      <td>1</td>\n",
              "      <td>0</td>\n",
              "      <td>199</td>\n",
              "      <td>26</td>\n",
              "      <td>11</td>\n",
              "      <td>4</td>\n",
              "      <td>...</td>\n",
              "      <td>6</td>\n",
              "      <td>0</td>\n",
              "      <td>0</td>\n",
              "      <td>0</td>\n",
              "      <td>0</td>\n",
              "      <td>0</td>\n",
              "      <td>0</td>\n",
              "      <td>3</td>\n",
              "      <td>11</td>\n",
              "      <td>0</td>\n",
              "    </tr>\n",
              "    <tr>\n",
              "      <th>4</th>\n",
              "      <td>1981</td>\n",
              "      <td>4</td>\n",
              "      <td>3</td>\n",
              "      <td>58293.0</td>\n",
              "      <td>1</td>\n",
              "      <td>0</td>\n",
              "      <td>390</td>\n",
              "      <td>94</td>\n",
              "      <td>173</td>\n",
              "      <td>43</td>\n",
              "      <td>...</td>\n",
              "      <td>5</td>\n",
              "      <td>0</td>\n",
              "      <td>0</td>\n",
              "      <td>0</td>\n",
              "      <td>0</td>\n",
              "      <td>0</td>\n",
              "      <td>0</td>\n",
              "      <td>3</td>\n",
              "      <td>11</td>\n",
              "      <td>0</td>\n",
              "    </tr>\n",
              "    <tr>\n",
              "      <th>...</th>\n",
              "      <td>...</td>\n",
              "      <td>...</td>\n",
              "      <td>...</td>\n",
              "      <td>...</td>\n",
              "      <td>...</td>\n",
              "      <td>...</td>\n",
              "      <td>...</td>\n",
              "      <td>...</td>\n",
              "      <td>...</td>\n",
              "      <td>...</td>\n",
              "      <td>...</td>\n",
              "      <td>...</td>\n",
              "      <td>...</td>\n",
              "      <td>...</td>\n",
              "      <td>...</td>\n",
              "      <td>...</td>\n",
              "      <td>...</td>\n",
              "      <td>...</td>\n",
              "      <td>...</td>\n",
              "      <td>...</td>\n",
              "      <td>...</td>\n",
              "    </tr>\n",
              "    <tr>\n",
              "      <th>2235</th>\n",
              "      <td>1967</td>\n",
              "      <td>2</td>\n",
              "      <td>3</td>\n",
              "      <td>61223.0</td>\n",
              "      <td>0</td>\n",
              "      <td>1</td>\n",
              "      <td>272</td>\n",
              "      <td>46</td>\n",
              "      <td>709</td>\n",
              "      <td>43</td>\n",
              "      <td>...</td>\n",
              "      <td>5</td>\n",
              "      <td>0</td>\n",
              "      <td>0</td>\n",
              "      <td>0</td>\n",
              "      <td>0</td>\n",
              "      <td>0</td>\n",
              "      <td>0</td>\n",
              "      <td>3</td>\n",
              "      <td>11</td>\n",
              "      <td>0</td>\n",
              "    </tr>\n",
              "    <tr>\n",
              "      <th>2236</th>\n",
              "      <td>1946</td>\n",
              "      <td>4</td>\n",
              "      <td>5</td>\n",
              "      <td>64014.0</td>\n",
              "      <td>2</td>\n",
              "      <td>1</td>\n",
              "      <td>207</td>\n",
              "      <td>56</td>\n",
              "      <td>406</td>\n",
              "      <td>0</td>\n",
              "      <td>...</td>\n",
              "      <td>7</td>\n",
              "      <td>0</td>\n",
              "      <td>0</td>\n",
              "      <td>0</td>\n",
              "      <td>1</td>\n",
              "      <td>0</td>\n",
              "      <td>0</td>\n",
              "      <td>3</td>\n",
              "      <td>11</td>\n",
              "      <td>0</td>\n",
              "    </tr>\n",
              "    <tr>\n",
              "      <th>2237</th>\n",
              "      <td>1981</td>\n",
              "      <td>2</td>\n",
              "      <td>2</td>\n",
              "      <td>56981.0</td>\n",
              "      <td>0</td>\n",
              "      <td>0</td>\n",
              "      <td>521</td>\n",
              "      <td>91</td>\n",
              "      <td>908</td>\n",
              "      <td>48</td>\n",
              "      <td>...</td>\n",
              "      <td>6</td>\n",
              "      <td>0</td>\n",
              "      <td>1</td>\n",
              "      <td>0</td>\n",
              "      <td>0</td>\n",
              "      <td>0</td>\n",
              "      <td>0</td>\n",
              "      <td>3</td>\n",
              "      <td>11</td>\n",
              "      <td>0</td>\n",
              "    </tr>\n",
              "    <tr>\n",
              "      <th>2238</th>\n",
              "      <td>1956</td>\n",
              "      <td>3</td>\n",
              "      <td>5</td>\n",
              "      <td>69245.0</td>\n",
              "      <td>0</td>\n",
              "      <td>1</td>\n",
              "      <td>500</td>\n",
              "      <td>8</td>\n",
              "      <td>428</td>\n",
              "      <td>30</td>\n",
              "      <td>...</td>\n",
              "      <td>3</td>\n",
              "      <td>0</td>\n",
              "      <td>0</td>\n",
              "      <td>0</td>\n",
              "      <td>0</td>\n",
              "      <td>0</td>\n",
              "      <td>0</td>\n",
              "      <td>3</td>\n",
              "      <td>11</td>\n",
              "      <td>0</td>\n",
              "    </tr>\n",
              "    <tr>\n",
              "      <th>2239</th>\n",
              "      <td>1954</td>\n",
              "      <td>4</td>\n",
              "      <td>3</td>\n",
              "      <td>52869.0</td>\n",
              "      <td>1</td>\n",
              "      <td>1</td>\n",
              "      <td>319</td>\n",
              "      <td>40</td>\n",
              "      <td>84</td>\n",
              "      <td>3</td>\n",
              "      <td>...</td>\n",
              "      <td>7</td>\n",
              "      <td>0</td>\n",
              "      <td>0</td>\n",
              "      <td>0</td>\n",
              "      <td>0</td>\n",
              "      <td>0</td>\n",
              "      <td>0</td>\n",
              "      <td>3</td>\n",
              "      <td>11</td>\n",
              "      <td>1</td>\n",
              "    </tr>\n",
              "  </tbody>\n",
              "</table>\n",
              "<p>2216 rows × 28 columns</p>\n",
              "</div>\n",
              "    <div class=\"colab-df-buttons\">\n",
              "\n",
              "  <div class=\"colab-df-container\">\n",
              "    <button class=\"colab-df-convert\" onclick=\"convertToInteractive('df-b056632f-1537-4ff4-b4bb-879335a93799')\"\n",
              "            title=\"Convert this dataframe to an interactive table.\"\n",
              "            style=\"display:none;\">\n",
              "\n",
              "  <svg xmlns=\"http://www.w3.org/2000/svg\" height=\"24px\" viewBox=\"0 -960 960 960\">\n",
              "    <path d=\"M120-120v-720h720v720H120Zm60-500h600v-160H180v160Zm220 220h160v-160H400v160Zm0 220h160v-160H400v160ZM180-400h160v-160H180v160Zm440 0h160v-160H620v160ZM180-180h160v-160H180v160Zm440 0h160v-160H620v160Z\"/>\n",
              "  </svg>\n",
              "    </button>\n",
              "\n",
              "  <style>\n",
              "    .colab-df-container {\n",
              "      display:flex;\n",
              "      gap: 12px;\n",
              "    }\n",
              "\n",
              "    .colab-df-convert {\n",
              "      background-color: #E8F0FE;\n",
              "      border: none;\n",
              "      border-radius: 50%;\n",
              "      cursor: pointer;\n",
              "      display: none;\n",
              "      fill: #1967D2;\n",
              "      height: 32px;\n",
              "      padding: 0 0 0 0;\n",
              "      width: 32px;\n",
              "    }\n",
              "\n",
              "    .colab-df-convert:hover {\n",
              "      background-color: #E2EBFA;\n",
              "      box-shadow: 0px 1px 2px rgba(60, 64, 67, 0.3), 0px 1px 3px 1px rgba(60, 64, 67, 0.15);\n",
              "      fill: #174EA6;\n",
              "    }\n",
              "\n",
              "    .colab-df-buttons div {\n",
              "      margin-bottom: 4px;\n",
              "    }\n",
              "\n",
              "    [theme=dark] .colab-df-convert {\n",
              "      background-color: #3B4455;\n",
              "      fill: #D2E3FC;\n",
              "    }\n",
              "\n",
              "    [theme=dark] .colab-df-convert:hover {\n",
              "      background-color: #434B5C;\n",
              "      box-shadow: 0px 1px 3px 1px rgba(0, 0, 0, 0.15);\n",
              "      filter: drop-shadow(0px 1px 2px rgba(0, 0, 0, 0.3));\n",
              "      fill: #FFFFFF;\n",
              "    }\n",
              "  </style>\n",
              "\n",
              "    <script>\n",
              "      const buttonEl =\n",
              "        document.querySelector('#df-b056632f-1537-4ff4-b4bb-879335a93799 button.colab-df-convert');\n",
              "      buttonEl.style.display =\n",
              "        google.colab.kernel.accessAllowed ? 'block' : 'none';\n",
              "\n",
              "      async function convertToInteractive(key) {\n",
              "        const element = document.querySelector('#df-b056632f-1537-4ff4-b4bb-879335a93799');\n",
              "        const dataTable =\n",
              "          await google.colab.kernel.invokeFunction('convertToInteractive',\n",
              "                                                    [key], {});\n",
              "        if (!dataTable) return;\n",
              "\n",
              "        const docLinkHtml = 'Like what you see? Visit the ' +\n",
              "          '<a target=\"_blank\" href=https://colab.research.google.com/notebooks/data_table.ipynb>data table notebook</a>'\n",
              "          + ' to learn more about interactive tables.';\n",
              "        element.innerHTML = '';\n",
              "        dataTable['output_type'] = 'display_data';\n",
              "        await google.colab.output.renderOutput(dataTable, element);\n",
              "        const docLink = document.createElement('div');\n",
              "        docLink.innerHTML = docLinkHtml;\n",
              "        element.appendChild(docLink);\n",
              "      }\n",
              "    </script>\n",
              "  </div>\n",
              "\n",
              "\n",
              "<div id=\"df-35ba0619-100d-4ca7-aa5d-ac7e53ebb8d1\">\n",
              "  <button class=\"colab-df-quickchart\" onclick=\"quickchart('df-35ba0619-100d-4ca7-aa5d-ac7e53ebb8d1')\"\n",
              "            title=\"Suggest charts\"\n",
              "            style=\"display:none;\">\n",
              "\n",
              "<svg xmlns=\"http://www.w3.org/2000/svg\" height=\"24px\"viewBox=\"0 0 24 24\"\n",
              "     width=\"24px\">\n",
              "    <g>\n",
              "        <path d=\"M19 3H5c-1.1 0-2 .9-2 2v14c0 1.1.9 2 2 2h14c1.1 0 2-.9 2-2V5c0-1.1-.9-2-2-2zM9 17H7v-7h2v7zm4 0h-2V7h2v10zm4 0h-2v-4h2v4z\"/>\n",
              "    </g>\n",
              "</svg>\n",
              "  </button>\n",
              "\n",
              "<style>\n",
              "  .colab-df-quickchart {\n",
              "      --bg-color: #E8F0FE;\n",
              "      --fill-color: #1967D2;\n",
              "      --hover-bg-color: #E2EBFA;\n",
              "      --hover-fill-color: #174EA6;\n",
              "      --disabled-fill-color: #AAA;\n",
              "      --disabled-bg-color: #DDD;\n",
              "  }\n",
              "\n",
              "  [theme=dark] .colab-df-quickchart {\n",
              "      --bg-color: #3B4455;\n",
              "      --fill-color: #D2E3FC;\n",
              "      --hover-bg-color: #434B5C;\n",
              "      --hover-fill-color: #FFFFFF;\n",
              "      --disabled-bg-color: #3B4455;\n",
              "      --disabled-fill-color: #666;\n",
              "  }\n",
              "\n",
              "  .colab-df-quickchart {\n",
              "    background-color: var(--bg-color);\n",
              "    border: none;\n",
              "    border-radius: 50%;\n",
              "    cursor: pointer;\n",
              "    display: none;\n",
              "    fill: var(--fill-color);\n",
              "    height: 32px;\n",
              "    padding: 0;\n",
              "    width: 32px;\n",
              "  }\n",
              "\n",
              "  .colab-df-quickchart:hover {\n",
              "    background-color: var(--hover-bg-color);\n",
              "    box-shadow: 0 1px 2px rgba(60, 64, 67, 0.3), 0 1px 3px 1px rgba(60, 64, 67, 0.15);\n",
              "    fill: var(--button-hover-fill-color);\n",
              "  }\n",
              "\n",
              "  .colab-df-quickchart-complete:disabled,\n",
              "  .colab-df-quickchart-complete:disabled:hover {\n",
              "    background-color: var(--disabled-bg-color);\n",
              "    fill: var(--disabled-fill-color);\n",
              "    box-shadow: none;\n",
              "  }\n",
              "\n",
              "  .colab-df-spinner {\n",
              "    border: 2px solid var(--fill-color);\n",
              "    border-color: transparent;\n",
              "    border-bottom-color: var(--fill-color);\n",
              "    animation:\n",
              "      spin 1s steps(1) infinite;\n",
              "  }\n",
              "\n",
              "  @keyframes spin {\n",
              "    0% {\n",
              "      border-color: transparent;\n",
              "      border-bottom-color: var(--fill-color);\n",
              "      border-left-color: var(--fill-color);\n",
              "    }\n",
              "    20% {\n",
              "      border-color: transparent;\n",
              "      border-left-color: var(--fill-color);\n",
              "      border-top-color: var(--fill-color);\n",
              "    }\n",
              "    30% {\n",
              "      border-color: transparent;\n",
              "      border-left-color: var(--fill-color);\n",
              "      border-top-color: var(--fill-color);\n",
              "      border-right-color: var(--fill-color);\n",
              "    }\n",
              "    40% {\n",
              "      border-color: transparent;\n",
              "      border-right-color: var(--fill-color);\n",
              "      border-top-color: var(--fill-color);\n",
              "    }\n",
              "    60% {\n",
              "      border-color: transparent;\n",
              "      border-right-color: var(--fill-color);\n",
              "    }\n",
              "    80% {\n",
              "      border-color: transparent;\n",
              "      border-right-color: var(--fill-color);\n",
              "      border-bottom-color: var(--fill-color);\n",
              "    }\n",
              "    90% {\n",
              "      border-color: transparent;\n",
              "      border-bottom-color: var(--fill-color);\n",
              "    }\n",
              "  }\n",
              "</style>\n",
              "\n",
              "  <script>\n",
              "    async function quickchart(key) {\n",
              "      const quickchartButtonEl =\n",
              "        document.querySelector('#' + key + ' button');\n",
              "      quickchartButtonEl.disabled = true;  // To prevent multiple clicks.\n",
              "      quickchartButtonEl.classList.add('colab-df-spinner');\n",
              "      try {\n",
              "        const charts = await google.colab.kernel.invokeFunction(\n",
              "            'suggestCharts', [key], {});\n",
              "      } catch (error) {\n",
              "        console.error('Error during call to suggestCharts:', error);\n",
              "      }\n",
              "      quickchartButtonEl.classList.remove('colab-df-spinner');\n",
              "      quickchartButtonEl.classList.add('colab-df-quickchart-complete');\n",
              "    }\n",
              "    (() => {\n",
              "      let quickchartButtonEl =\n",
              "        document.querySelector('#df-35ba0619-100d-4ca7-aa5d-ac7e53ebb8d1 button');\n",
              "      quickchartButtonEl.style.display =\n",
              "        google.colab.kernel.accessAllowed ? 'block' : 'none';\n",
              "    })();\n",
              "  </script>\n",
              "</div>\n",
              "\n",
              "  <div id=\"id_245cff72-c336-4dd4-8afc-06b5ae2bf8f7\">\n",
              "    <style>\n",
              "      .colab-df-generate {\n",
              "        background-color: #E8F0FE;\n",
              "        border: none;\n",
              "        border-radius: 50%;\n",
              "        cursor: pointer;\n",
              "        display: none;\n",
              "        fill: #1967D2;\n",
              "        height: 32px;\n",
              "        padding: 0 0 0 0;\n",
              "        width: 32px;\n",
              "      }\n",
              "\n",
              "      .colab-df-generate:hover {\n",
              "        background-color: #E2EBFA;\n",
              "        box-shadow: 0px 1px 2px rgba(60, 64, 67, 0.3), 0px 1px 3px 1px rgba(60, 64, 67, 0.15);\n",
              "        fill: #174EA6;\n",
              "      }\n",
              "\n",
              "      [theme=dark] .colab-df-generate {\n",
              "        background-color: #3B4455;\n",
              "        fill: #D2E3FC;\n",
              "      }\n",
              "\n",
              "      [theme=dark] .colab-df-generate:hover {\n",
              "        background-color: #434B5C;\n",
              "        box-shadow: 0px 1px 3px 1px rgba(0, 0, 0, 0.15);\n",
              "        filter: drop-shadow(0px 1px 2px rgba(0, 0, 0, 0.3));\n",
              "        fill: #FFFFFF;\n",
              "      }\n",
              "    </style>\n",
              "    <button class=\"colab-df-generate\" onclick=\"generateWithVariable('data')\"\n",
              "            title=\"Generate code using this dataframe.\"\n",
              "            style=\"display:none;\">\n",
              "\n",
              "  <svg xmlns=\"http://www.w3.org/2000/svg\" height=\"24px\"viewBox=\"0 0 24 24\"\n",
              "       width=\"24px\">\n",
              "    <path d=\"M7,19H8.4L18.45,9,17,7.55,7,17.6ZM5,21V16.75L18.45,3.32a2,2,0,0,1,2.83,0l1.4,1.43a1.91,1.91,0,0,1,.58,1.4,1.91,1.91,0,0,1-.58,1.4L9.25,21ZM18.45,9,17,7.55Zm-12,3A5.31,5.31,0,0,0,4.9,8.1,5.31,5.31,0,0,0,1,6.5,5.31,5.31,0,0,0,4.9,4.9,5.31,5.31,0,0,0,6.5,1,5.31,5.31,0,0,0,8.1,4.9,5.31,5.31,0,0,0,12,6.5,5.46,5.46,0,0,0,6.5,12Z\"/>\n",
              "  </svg>\n",
              "    </button>\n",
              "    <script>\n",
              "      (() => {\n",
              "      const buttonEl =\n",
              "        document.querySelector('#id_245cff72-c336-4dd4-8afc-06b5ae2bf8f7 button.colab-df-generate');\n",
              "      buttonEl.style.display =\n",
              "        google.colab.kernel.accessAllowed ? 'block' : 'none';\n",
              "\n",
              "      buttonEl.onclick = () => {\n",
              "        google.colab.notebook.generateWithVariable('data');\n",
              "      }\n",
              "      })();\n",
              "    </script>\n",
              "  </div>\n",
              "\n",
              "    </div>\n",
              "  </div>\n"
            ],
            "text/plain": [
              "      Year_Birth  Education  Marital_Status   Income  Kidhome  Teenhome  \\\n",
              "0           1957          2               4  58138.0        0         0   \n",
              "1           1954          2               4  46344.0        1         1   \n",
              "2           1965          2               5  71613.0        0         0   \n",
              "3           1984          2               5  26646.0        1         0   \n",
              "4           1981          4               3  58293.0        1         0   \n",
              "...          ...        ...             ...      ...      ...       ...   \n",
              "2235        1967          2               3  61223.0        0         1   \n",
              "2236        1946          4               5  64014.0        2         1   \n",
              "2237        1981          2               2  56981.0        0         0   \n",
              "2238        1956          3               5  69245.0        0         1   \n",
              "2239        1954          4               3  52869.0        1         1   \n",
              "\n",
              "      Dt_Customer  Recency  MntWines  MntFruits  ...  NumWebVisitsMonth  \\\n",
              "0              80       58       635         88  ...                  7   \n",
              "1             157       38        11          1  ...                  5   \n",
              "2             444       26       426         49  ...                  4   \n",
              "3             199       26        11          4  ...                  6   \n",
              "4             390       94       173         43  ...                  5   \n",
              "...           ...      ...       ...        ...  ...                ...   \n",
              "2235          272       46       709         43  ...                  5   \n",
              "2236          207       56       406          0  ...                  7   \n",
              "2237          521       91       908         48  ...                  6   \n",
              "2238          500        8       428         30  ...                  3   \n",
              "2239          319       40        84          3  ...                  7   \n",
              "\n",
              "      AcceptedCmp3  AcceptedCmp4  AcceptedCmp5  AcceptedCmp1  AcceptedCmp2  \\\n",
              "0                0             0             0             0             0   \n",
              "1                0             0             0             0             0   \n",
              "2                0             0             0             0             0   \n",
              "3                0             0             0             0             0   \n",
              "4                0             0             0             0             0   \n",
              "...            ...           ...           ...           ...           ...   \n",
              "2235             0             0             0             0             0   \n",
              "2236             0             0             0             1             0   \n",
              "2237             0             1             0             0             0   \n",
              "2238             0             0             0             0             0   \n",
              "2239             0             0             0             0             0   \n",
              "\n",
              "      Complain  Z_CostContact  Z_Revenue  Response  \n",
              "0            0              3         11         1  \n",
              "1            0              3         11         0  \n",
              "2            0              3         11         0  \n",
              "3            0              3         11         0  \n",
              "4            0              3         11         0  \n",
              "...        ...            ...        ...       ...  \n",
              "2235         0              3         11         0  \n",
              "2236         0              3         11         0  \n",
              "2237         0              3         11         0  \n",
              "2238         0              3         11         0  \n",
              "2239         0              3         11         1  \n",
              "\n",
              "[2216 rows x 28 columns]"
            ]
          },
          "execution_count": 10,
          "metadata": {},
          "output_type": "execute_result"
        }
      ],
      "source": [
        "data"
      ]
    },
    {
      "cell_type": "markdown",
      "metadata": {
        "id": "jSeoBxWM0E4l"
      },
      "source": [
        "# **Plotting Correlation**"
      ]
    },
    {
      "cell_type": "code",
      "execution_count": 11,
      "metadata": {
        "colab": {
          "base_uri": "https://localhost:8080/",
          "height": 578
        },
        "id": "DhK7wDlMwFt_",
        "outputId": "fa76adfc-bf5d-43ac-c9d9-d17d51bc5882"
      },
      "outputs": [
        {
          "data": {
            "image/png": "[encoded data removed]",
            "text/plain": [
              "<Figure size 640x480 with 2 Axes>"
            ]
          },
          "metadata": {},
          "output_type": "display_data"
        }
      ],
      "source": [
        "corrmat = data.corr()\n",
        "sns.heatmap(corrmat)\n",
        "plt.show()"
      ]
    },
    {
      "cell_type": "markdown",
      "metadata": {
        "id": "nYbeM5kfxlty"
      },
      "source": [
        "# **Checking for class imbalance**"
      ]
    },
    {
      "cell_type": "code",
      "execution_count": 13,
      "metadata": {
        "colab": {
          "base_uri": "https://localhost:8080/"
        },
        "id": "FanVrorjw91a",
        "outputId": "a34294dc-b23c-45ce-c347-30c1d7cc1d0b"
      },
      "outputs": [
        {
          "name": "stdout",
          "output_type": "stream",
          "text": [
            "0    1883\n",
            "1     333\n",
            "Name: Response, dtype: int64\n"
          ]
        }
      ],
      "source": [
        "label_counts = data['Response'].value_counts()\n",
        "print(label_counts )"
      ]
    },
    {
      "cell_type": "code",
      "execution_count": 14,
      "metadata": {
        "colab": {
          "base_uri": "https://localhost:8080/",
          "height": 449
        },
        "id": "AgwFy4Jk0hoh",
        "outputId": "3c554722-8c97-481a-90b6-14a40349a04b"
      },
      "outputs": [
        {
          "data": {
            "image/png": "[encoded data removed]",
            "text/plain": [
              "<Figure size 640x480 with 1 Axes>"
            ]
          },
          "metadata": {},
          "output_type": "display_data"
        }
      ],
      "source": [
        "sns.countplot(x='Response',data=data)\n",
        "plt.show()"
      ]
    },
    {
      "cell_type": "markdown",
      "metadata": {
        "id": "IyHYspCax128"
      },
      "source": [
        "# **Removing highly correlated features**\n",
        "Among the X Variables we want to remove the highly correlated features(90% correlated with each other)"
      ]
    },
    {
      "cell_type": "code",
      "execution_count": 15,
      "metadata": {
        "id": "iQS4HMP5x5qn"
      },
      "outputs": [],
      "source": [
        "def correlation(dataset,threshold):\n",
        "  col_corr = set()\n",
        "  corr_matrix = dataset.corr()\n",
        "  for i in range(len(corr_matrix.columns)):\n",
        "    for j in range(i):\n",
        "      if abs(corr_matrix.iloc[i,j] > threshold):\n",
        "        colname = corr_matrix.columns[i]\n",
        "        col_corr.add(colname)\n",
        "  return col_corr"
      ]
    },
    {
      "cell_type": "code",
      "execution_count": 16,
      "metadata": {
        "colab": {
          "base_uri": "https://localhost:8080/"
        },
        "id": "ov8-zkyVybqG",
        "outputId": "a2e31355-c2ce-4e86-db09-b0133b453b98"
      },
      "outputs": [
        {
          "name": "stdout",
          "output_type": "stream",
          "text": [
            "set()\n"
          ]
        }
      ],
      "source": [
        "features_highvar = correlation(data,0.9)\n",
        "print(features_highvar)"
      ]
    },
    {
      "cell_type": "markdown",
      "metadata": {
        "id": "nH_cTUTVyzXh"
      },
      "source": [
        "# **Removing low variance features**\n",
        "• We need to drop constant features and low-variance features since they are not useful in our model \\\\\n",
        "• Ideally constant features are those with variance = 0. However to remove both low variance and constant features let’s set our threshold to 0.01(1.00%)\n",
        "\n",
        "\n",
        "**"
      ]
    },
    {
      "cell_type": "code",
      "execution_count": 17,
      "metadata": {
        "colab": {
          "base_uri": "https://localhost:8080/"
        },
        "id": "fBDai3Mry0_t",
        "outputId": "a0dd903c-d05e-4bcf-df05-f2ec8ab9c7ce"
      },
      "outputs": [
        {
          "name": "stdout",
          "output_type": "stream",
          "text": [
            "['Complain', 'Z_CostContact', 'Z_Revenue']\n"
          ]
        }
      ],
      "source": [
        "threshold = 0.01\n",
        "varThreshold = VarianceThreshold(threshold = threshold)\n",
        "varThreshold.fit(data)\n",
        "lowVarsFeatures = []\n",
        "lowVarsFeatures = [column for column in data.columns if column not in data.columns[varThreshold.get_support()]]\n",
        "print(lowVarsFeatures)\n",
        "X = data.drop(lowVarsFeatures, axis=1)\n",
        "X = X.drop(columns='Response')\n",
        "Y = data['Response']"
      ]
    },
    {
      "cell_type": "code",
      "execution_count": 18,
      "metadata": {
        "colab": {
          "base_uri": "https://localhost:8080/"
        },
        "id": "TB-3YkpKzZuu",
        "outputId": "4a8ea811-bfc9-4c15-d1ba-43842d4e7342"
      },
      "outputs": [
        {
          "name": "stdout",
          "output_type": "stream",
          "text": [
            "(2216, 24)\n",
            "(2216,)\n"
          ]
        }
      ],
      "source": [
        "print(X.shape)\n",
        "print(Y.shape)"
      ]
    },
    {
      "cell_type": "markdown",
      "metadata": {
        "id": "0z4Xm9Di1vPe"
      },
      "source": [
        "# **Create Data split**"
      ]
    },
    {
      "cell_type": "code",
      "execution_count": 19,
      "metadata": {
        "id": "mFo4k3Dj1BMW"
      },
      "outputs": [],
      "source": [
        "X_train, X_test,y_train,y_test = train_test_split(X,Y,test_size = 0.3,random_state=123)"
      ]
    },
    {
      "cell_type": "markdown",
      "metadata": {
        "id": "d6WHAgOly4dZ"
      },
      "source": [
        "bold text## **Supervised Learning**"
      ]
    },
    {
      "cell_type": "markdown",
      "metadata": {
        "id": "IkBOZnYy9hc1"
      },
      "source": [
        "## **Training RandomForest**"
      ]
    },
    {
      "cell_type": "code",
      "execution_count": 25,
      "metadata": {
        "id": "3gb-YCWZ11Gv"
      },
      "outputs": [],
      "source": [
        "pipeline = Pipeline([\n",
        "\n",
        "                    ('Standardizer',StandardScaler())\n",
        "                    ,('rf',RandomForestClassifier())\n",
        "                    ])\n",
        "parameters={\n",
        "\n",
        "            'rf__max_depth': [80, 100,110],\n",
        "            'rf__max_features': [2, 3],\n",
        "            'rf__min_samples_leaf': [3, 5],\n",
        "            'rf__min_samples_split': [8, 12],\n",
        "            'rf__n_estimators': [100,300, 5]\n",
        "            }\n",
        "\n",
        "grid_pipeline = GridSearchCV(pipeline,parameters)\n",
        "grid_pipeline.fit(X_train,y_train)\n",
        "param_rf = grid_pipeline.best_params_"
      ]
    },
    {
      "cell_type": "code",
      "execution_count": 26,
      "metadata": {
        "colab": {
          "base_uri": "https://localhost:8080/"
        },
        "id": "3PAPi0D42QNo",
        "outputId": "3dfe6a03-8272-4e9c-abd0-b9f4dacc24c0"
      },
      "outputs": [
        {
          "name": "stdout",
          "output_type": "stream",
          "text": [
            "{'rf__max_depth': 110, 'rf__max_features': 3, 'rf__min_samples_leaf': 3, 'rf__min_samples_split': 8, 'rf__n_estimators': 300}\n"
          ]
        }
      ],
      "source": [
        "print(param_rf)"
      ]
    },
    {
      "cell_type": "code",
      "execution_count": 27,
      "metadata": {
        "id": "OAjSmKB46rvS"
      },
      "outputs": [],
      "source": [
        "best_model = grid_pipeline.best_estimator_\n",
        "best_model_rf = best_model\n",
        "y_pred = best_model.predict(X_test)"
      ]
    },
    {
      "cell_type": "markdown",
      "metadata": {
        "id": "4nFiWHQD6_Fw"
      },
      "source": [
        "# **Analysing the model performance**"
      ]
    },
    {
      "cell_type": "code",
      "execution_count": 28,
      "metadata": {
        "colab": {
          "base_uri": "https://localhost:8080/"
        },
        "id": "kTvXLHcI7C-J",
        "outputId": "e8574be1-30bf-4566-b01b-436a5ecae303"
      },
      "outputs": [
        {
          "name": "stdout",
          "output_type": "stream",
          "text": [
            "The classification report-\n",
            "              precision    recall  f1-score   support\n",
            "\n",
            "           0       0.88      0.99      0.93       567\n",
            "           1       0.77      0.24      0.37        98\n",
            "\n",
            "    accuracy                           0.88       665\n",
            "   macro avg       0.83      0.62      0.65       665\n",
            "weighted avg       0.87      0.88      0.85       665\n",
            "\n",
            "The accuracy score is  : 87.82%\n"
          ]
        }
      ],
      "source": [
        "from sklearn.metrics import confusion_matrix,accuracy_score, f1_score, auc, classification_report\n",
        "\n",
        "print(\"The classification report-\")\n",
        "print(classification_report(y_test, y_pred))\n",
        "print(f\"The accuracy score is  : {np.round(100*accuracy_score(y_test, y_pred),2)}%\")\n"
      ]
    },
    {
      "cell_type": "code",
      "execution_count": 33,
      "metadata": {
        "colab": {
          "base_uri": "https://localhost:8080/",
          "height": 449
        },
        "id": "-z6eawrK7DnY",
        "outputId": "99abac99-05f1-4f01-cd95-03a69e601e90"
      },
      "outputs": [
        {
          "data": {
            "image/png": "[encoded data removed]",
            "text/plain": [
              "<Figure size 640x480 with 2 Axes>"
            ]
          },
          "metadata": {},
          "output_type": "display_data"
        }
      ],
      "source": [
        "from sklearn.metrics import ConfusionMatrixDisplay\n",
        "cm = confusion_matrix(y_test, y_pred)\n",
        "disp = ConfusionMatrixDisplay(confusion_matrix=cm)\n",
        "disp.plot(cmap='Blues')\n",
        "plt.show()"
      ]
    },
    {
      "cell_type": "markdown",
      "metadata": {
        "id": "1qe7JiXj7Rus"
      },
      "source": [
        "# **Learning**"
      ]
    },
    {
      "cell_type": "code",
      "execution_count": null,
      "metadata": {
        "colab": {
          "base_uri": "https://localhost:8080/",
          "height": 430
        },
        "id": "1_4X3sI47VkF",
        "outputId": "7b2db2be-9e25-46cc-ccec-8a2cfad5aaf2"
      },
      "outputs": [
        {
          "data": {
            "image/png": "[encoded data removed]",
            "text/plain": [
              "<Figure size 640x480 with 1 Axes>"
            ]
          },
          "metadata": {},
          "output_type": "display_data"
        }
      ],
      "source": [
        "from sklearn.model_selection import learning_curve\n",
        "rf = RandomForestClassifier(max_depth=param_rf['rf__max_depth'],max_features=param_rf['rf__max_features'],min_samples_leaf=param_rf['rf__min_samples_leaf'],min_samples_split=param_rf['rf__min_samples_split'],n_estimators=param_rf['rf__n_estimators'])\n",
        "train_sizes, train_scores, test_scores = learning_curve(rf, X, Y)\n",
        "train_scores_mean = np.mean(train_scores, axis=1)\n",
        "train_scores_std = np.std(train_scores, axis=1)\n",
        "test_scores_mean = np.mean(test_scores, axis=1)\n",
        "test_scores_std = np.std(test_scores, axis=1)\n",
        "plt.grid()\n",
        "\n",
        "plt.fill_between(train_sizes, train_scores_mean - train_scores_std,\n",
        "                 train_scores_mean + train_scores_std, alpha=0.1,\n",
        "                 color=\"r\")\n",
        "plt.fill_between(train_sizes, test_scores_mean - test_scores_std,\n",
        "                 test_scores_mean + test_scores_std, alpha=0.1, color=\"g\")\n",
        "plt.plot(train_sizes, train_scores_mean, 'o-', color=\"r\",\n",
        "         label=\"Training score\")\n",
        "plt.plot(train_sizes, test_scores_mean, 'o-', color=\"g\",\n",
        "         label=\"Cross-validation score\")\n",
        "\n",
        "plt.legend(loc=\"best\")\n",
        "plt.show()"
      ]
    },
    {
      "cell_type": "markdown",
      "metadata": {
        "id": "xuwC7xfD9n_s"
      },
      "source": [
        "# **Training SVM**"
      ]
    },
    {
      "cell_type": "code",
      "execution_count": 34,
      "metadata": {
        "colab": {
          "base_uri": "https://localhost:8080/"
        },
        "id": "IGF-NTcV9qAz",
        "outputId": "923e094d-6b74-4dc0-987e-d55e1d215e21"
      },
      "outputs": [
        {
          "name": "stdout",
          "output_type": "stream",
          "text": [
            "{'svc__C': 0.1, 'svc__gamma': 1, 'svc__kernel': 'linear'}\n"
          ]
        }
      ],
      "source": [
        "pipeline = Pipeline([\n",
        "                    ('Standardizer',StandardScaler())\n",
        "                    ,('svc',SVC())\n",
        "                    ])\n",
        "\n",
        "parameters = {'svc__C': [0.1, 1, 10, 100, 1000],\n",
        "              'svc__gamma': [1, 0.1, 0.01, 0.001, 0.0001],\n",
        "              'svc__kernel': ['linear']}\n",
        "\n",
        "grid_pipeline = GridSearchCV(pipeline,parameters)\n",
        "grid_pipeline.fit(X_train,y_train)\n",
        "param_svc = grid_pipeline.best_params_\n",
        "\n",
        "print(param_svc)"
      ]
    },
    {
      "cell_type": "code",
      "execution_count": 35,
      "metadata": {
        "id": "xE6tU7z7-3iB"
      },
      "outputs": [],
      "source": [
        "best_model = grid_pipeline.best_estimator_\n",
        "best_model_svc = best_model\n",
        "y_pred = best_model_svc.predict(X_test)"
      ]
    },
    {
      "cell_type": "code",
      "execution_count": 36,
      "metadata": {
        "colab": {
          "base_uri": "https://localhost:8080/"
        },
        "id": "PPjkSif6ZE-Y",
        "outputId": "77ca07aa-21b2-46b9-a365-2e2771575756"
      },
      "outputs": [
        {
          "name": "stdout",
          "output_type": "stream",
          "text": [
            "The classification report-\n",
            "              precision    recall  f1-score   support\n",
            "\n",
            "           0       0.89      0.98      0.93       567\n",
            "           1       0.70      0.27      0.39        98\n",
            "\n",
            "    accuracy                           0.88       665\n",
            "   macro avg       0.79      0.62      0.66       665\n",
            "weighted avg       0.86      0.88      0.85       665\n",
            "\n",
            "The accuracy score is  : 87.52%\n"
          ]
        }
      ],
      "source": [
        "from sklearn.metrics import confusion_matrix,accuracy_score, f1_score, auc, classification_report\n",
        "\n",
        "print(\"The classification report-\")\n",
        "print(classification_report(y_test, y_pred))\n",
        "print(f\"The accuracy score is  : {np.round(100*accuracy_score(y_test, y_pred),2)}%\")"
      ]
    },
    {
      "cell_type": "code",
      "execution_count": null,
      "metadata": {
        "colab": {
          "base_uri": "https://localhost:8080/",
          "height": 430
        },
        "id": "JWFZyaNIm-oV",
        "outputId": "d6cf31dc-b2ae-44ed-928e-0a23f2cbe3d1"
      },
      "outputs": [
        {
          "data": {
            "image/png": "[encoded data removed]",
            "text/plain": [
              "<Figure size 640x480 with 1 Axes>"
            ]
          },
          "metadata": {},
          "output_type": "display_data"
        }
      ],
      "source": [
        "from sklearn.model_selection import learning_curve\n",
        "\n",
        "svc = SVC(C=param_svc['svc__C'], gamma=param_svc['svc__gamma'],kernel=param_svc['svc__kernel'])\n",
        "train_sizes, train_scores, test_scores = learning_curve(svc, X, Y)\n",
        "\n",
        "train_scores_mean = np.mean(train_scores, axis=1)\n",
        "train_scores_std = np.std(train_scores, axis=1)\n",
        "test_scores_mean = np.mean(test_scores, axis=1)\n",
        "test_scores_std = np.std(test_scores, axis=1)\n",
        "plt.grid()\n",
        "\n",
        "plt.fill_between(train_sizes, train_scores_mean - train_scores_std,\n",
        "                 train_scores_mean + train_scores_std, alpha=0.1,\n",
        "                 color=\"r\")\n",
        "plt.fill_between(train_sizes, test_scores_mean - test_scores_std,\n",
        "                 test_scores_mean + test_scores_std, alpha=0.1, color=\"g\")\n",
        "plt.plot(train_sizes, train_scores_mean, 'o-', color=\"r\",\n",
        "         label=\"Training score\")\n",
        "plt.plot(train_sizes, test_scores_mean, 'o-', color=\"g\",\n",
        "         label=\"Cross-validation score\")\n",
        "\n",
        "plt.legend(loc=\"best\")\n",
        "plt.show()"
      ]
    },
    {
      "cell_type": "markdown",
      "metadata": {
        "id": "hWOd24y2TcWH"
      },
      "source": [
        "# **Analysing the model performance**"
      ]
    },
    {
      "cell_type": "code",
      "execution_count": 37,
      "metadata": {
        "colab": {
          "base_uri": "https://localhost:8080/",
          "height": 449
        },
        "id": "RaT7PriFNB11",
        "outputId": "14350436-52a2-46da-f4ef-4ac7279e080c"
      },
      "outputs": [
        {
          "data": {
            "image/png": "[encoded data removed]",
            "text/plain": [
              "<Figure size 640x480 with 2 Axes>"
            ]
          },
          "metadata": {},
          "output_type": "display_data"
        }
      ],
      "source": [
        "\n",
        "\n",
        "from sklearn.metrics import ConfusionMatrixDisplay\n",
        "cm = confusion_matrix(y_test, y_pred)\n",
        "disp = ConfusionMatrixDisplay(confusion_matrix=cm)\n",
        "disp.plot(cmap='Blues')\n",
        "plt.show()"
      ]
    },
    {
      "cell_type": "markdown",
      "metadata": {
        "id": "V26UQPpRzSsZ"
      },
      "source": [
        "#  Unsupervised Clustering\n",
        "\n",
        "\n",
        "\n"
      ]
    },
    {
      "cell_type": "markdown",
      "metadata": {
        "id": "28yBmkKcChFX"
      },
      "source": [
        "## **Training RandomForest**"
      ]
    },
    {
      "cell_type": "markdown",
      "metadata": {
        "id": "uQNtBq6DLqgK"
      },
      "source": [
        "###  Doing Clustering with all the features\n",
        "\n",
        "\n",
        "\n",
        "\n",
        "\n",
        "\n"
      ]
    },
    {
      "cell_type": "code",
      "execution_count": null,
      "metadata": {
        "colab": {
          "base_uri": "https://localhost:8080/",
          "height": 962
        },
        "id": "XPzYJI25Sh5Y",
        "outputId": "3566dbeb-b07c-40d4-988d-0b529eddae66"
      },
      "outputs": [
        {
          "name": "stdout",
          "output_type": "stream",
          "text": [
            "Best parameters found: {'algorithm': 'lloyd', 'init': 'k-means++', 'max_iter': 300, 'n_clusters': 2, 'n_init': 5, 'tol': 1e-06}\n",
            "Best silhouette score: 0.6735288700833036\n"
          ]
        },
        {
          "data": {
            "image/png": "[encoded data removed]",
            "text/plain": [
              "<Figure size 640x480 with 1 Axes>"
            ]
          },
          "metadata": {},
          "output_type": "display_data"
        },
        {
          "data": {
            "image/png": "[encoded data removed]",
            "text/plain": [
              "<Figure size 640x480 with 1 Axes>"
            ]
          },
          "metadata": {},
          "output_type": "display_data"
        }
      ],
      "source": [
        "from sklearn.cluster import KMeans\n",
        "from sklearn.model_selection import GridSearchCV\n",
        "from sklearn.metrics import silhouette_score\n",
        "from sklearn.datasets import make_blobs\n",
        "\n",
        "\n",
        "\n",
        "param_grid = {\n",
        "    'n_clusters': [2, 3, 4, 5, 6],\n",
        "    'init': ['k-means++', 'random'],\n",
        "    'max_iter': [100, 200, 300],\n",
        "    'tol': [1e-4, 1e-5, 1e-6],\n",
        "    'algorithm': ['lloyd', 'elkan'],\n",
        "    'n_init': [5, 10, 20]  # Adjust as needed\n",
        "}\n",
        "\n",
        "# Define the clustering model\n",
        "kmeans = KMeans()\n",
        "\n",
        "# Define the silhouette scorer (or any other clustering metric)\n",
        "def silhouette_scorer(estimator, X):\n",
        "    labels = estimator.fit_predict(X)\n",
        "    return silhouette_score(X, labels)\n",
        "\n",
        "# Perform grid search with cross-validation\n",
        "grid_search = GridSearchCV(estimator=kmeans, param_grid=param_grid, scoring=silhouette_scorer)\n",
        "grid_search.fit(X)\n",
        "print(\"Best parameters found:\", grid_search.best_params_)\n",
        "print(\"Best silhouette score:\", grid_search.best_score_)\n",
        "\n",
        "# Plotting the loss curve\n",
        "def plot_loss_curve(estimator, X):\n",
        "    losses = []\n",
        "    for n_clusters in range(2, 11):\n",
        "        estimator.set_params(n_clusters=n_clusters)\n",
        "        estimator.fit(X)\n",
        "        losses.append(estimator.inertia_)\n",
        "    plt.plot(range(2, 11), losses, marker='o')\n",
        "    plt.xlabel('Number of clusters')\n",
        "    plt.ylabel('Inertia')\n",
        "    plt.title('Loss Curve')\n",
        "    plt.show()\n",
        "\n",
        "# Plotting the elbow method\n",
        "def plot_elbow_method(estimator, X):\n",
        "    distortions = []\n",
        "    for n_clusters in range(2, 11):\n",
        "        estimator.set_params(n_clusters=n_clusters)\n",
        "        estimator.fit(X)\n",
        "        distortions.append(sum(np.min(np.square(estimator.transform(X)), axis=1)) / X.shape[0])\n",
        "    plt.plot(range(2, 11), distortions, marker='o')\n",
        "    plt.xlabel('Number of clusters')\n",
        "    plt.ylabel('Distortion')\n",
        "    plt.title('Elbow Method')\n",
        "    plt.show()\n",
        "\n",
        "# Plotting the loss curve and elbow method\n",
        "plot_loss_curve(KMeans(**grid_search.best_params_), X)\n",
        "plot_elbow_method(KMeans(**grid_search.best_params_), X)"
      ]
    },
    {
      "cell_type": "code",
      "execution_count": null,
      "metadata": {
        "id": "DFt5TrzZCI1h"
      },
      "outputs": [],
      "source": []
    }
  ],
  "metadata": {
    "colab": {
      "provenance": []
    },
    "kernelspec": {
      "display_name": "Python 3",
      "name": "python3"
    },
    "language_info": {
      "name": "python"
    }
  },
  "nbformat": 4,
  "nbformat_minor": 0
}
